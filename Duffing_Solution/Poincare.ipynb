{
 "cells": [
  {
   "cell_type": "code",
   "execution_count": 1,
   "metadata": {},
   "outputs": [],
   "source": [
    "import  dataloaders\n",
    "import  pickle\n",
    "import  numpy                   as      np\n",
    "import  matplotlib.pyplot       as      plt\n",
    "from    mpl_toolkits.mplot3d    import  Axes3D\n",
    "from    matplotlib.animation    import  FuncAnimation\n",
    "from    tqdm                    import  tqdm"
   ]
  },
  {
   "cell_type": "code",
   "execution_count": 2,
   "metadata": {},
   "outputs": [],
   "source": [
    "def runge_kutta_solve(delta, alpha, beta, gamma, omega, x0, v0, t_span, dt, poincare_period,_ret_all=None):\n",
    "    t_eval = np.arange(t_span[0], t_span[1] + dt, dt)\n",
    "    n_steps = len(t_eval)\n",
    "\n",
    "    x = np.zeros(n_steps)\n",
    "    v = np.zeros(n_steps)\n",
    "\n",
    "    x[0] = x0\n",
    "    v[0] = v0\n",
    "\n",
    "    poincare_points = []\n",
    "    poincare_points.append([x0, v0])\n",
    "    for i in (range(1, n_steps)):\n",
    "        t = t_eval[i - 1]\n",
    "        y = np.array([x[i - 1], v[i - 1]])\n",
    "        x[i], v[i] = dataloaders.runge_kutta_step(t, y, dt, delta, alpha, beta, gamma, omega)\n",
    "\n",
    "        # Check if the oscillator crosses the Poincaré section (v = 0)\n",
    "        # if v[i-1] * v[i] < 0:\n",
    "            # Interpolate to find the exact intersection point\n",
    "            # t_interpolate = t_eval[i-1] + dt * (0 - v[i-1]) / (v[i] - v[i-1])\n",
    "            # x_interpolate = x[i-1] + (x[i] - x[i-1]) * (t_interpolate - t_eval[i-1]) / dt\n",
    "            # poincare_points.append([x_interpolate, v[i]])\n",
    "        if _ret_all:\n",
    "            pass #poincare_points.append([x[i], v[i]])\n",
    "        elif (i*dt)%int(poincare_period)==0:\n",
    "            poincare_points.append([x[i], v[i]])\n",
    "    if _ret_all:\n",
    "        return np.row_stack([x,v])\n",
    "    return np.array(poincare_points)\n"
   ]
  },
  {
   "cell_type": "code",
   "execution_count": 3,
   "metadata": {},
   "outputs": [],
   "source": [
    "# Parameters\n",
    "δ = 0.3    # Damping coefficient\n",
    "α = -1.0    # Linear stiffness coefficient\n",
    "β = 1   # Non-linear stiffness coefficient\n",
    "ω = 1.2    # Angular frequency of the external driving force\n",
    "\n",
    "γ = 0.5    # Amplitude of the external driving force\n",
    "# Period of the Poincaré section (e.g., time period to reach v=0)\n",
    "poincare_period = 2 * np.pi / ω\n"
   ]
  },
  {
   "cell_type": "code",
   "execution_count": 4,
   "metadata": {},
   "outputs": [
    {
     "name": "stdout",
     "output_type": "stream",
     "text": [
      "0.37\n"
     ]
    },
    {
     "name": "stderr",
     "output_type": "stream",
     "text": [
      "100%|██████████| 800/800 [25:39<00:00,  1.92s/it]\n"
     ]
    }
   ],
   "source": [
    "Framess = 600\n",
    "points  = 800\n",
    "dt = 0.01\n",
    "t_span = (0, Framess)\n",
    "\n",
    "All = True\n",
    "for gamma in reversed([0.37]):\n",
    "    γ = gamma\n",
    "    print(γ)\n",
    "    \n",
    "    mapss = []\n",
    "    for index in tqdm(range(points)):\n",
    "        # Initial conditions\n",
    "        x0 = np.random.random(size=[1])[0]*4-2\n",
    "        v0 = np.random.random(size=[1])[0]*4-2\n",
    "        mapss.append(runge_kutta_solve(δ, α, β, γ, ω, x0, v0, t_span, dt, poincare_period,All))\n",
    "        \n",
    "    with open(f'Frames={Framess} {points=} {All=} gamma={γ} omega={ω} beta={β} alpha={α} delta={δ}.pkl', 'wb') as file:\n",
    "        pickle.dump(mapss, file)\n"
   ]
  },
  {
   "cell_type": "code",
   "execution_count": 10,
   "metadata": {},
   "outputs": [
    {
     "data": {
      "text/plain": [
       "800"
      ]
     },
     "execution_count": 10,
     "metadata": {},
     "output_type": "execute_result"
    }
   ],
   "source": [
    "len(mapss)"
   ]
  },
  {
   "cell_type": "code",
   "execution_count": 5,
   "metadata": {},
   "outputs": [],
   "source": [
    "# import pickle\n",
    "\n",
    "# # Load the list from the file\n",
    "# with open('list_data.pkl', 'rb') as file:\n",
    "#     loaded_list = pickle.load(file)\n"
   ]
  },
  {
   "cell_type": "code",
   "execution_count": 6,
   "metadata": {},
   "outputs": [],
   "source": [
    "# # # Calculate the Poincaré map\n",
    "# # poincare_points = runge_kutta_solve(δ, α, β, γ, ω, x0, v0, t_span, dt, poincare_period)\n",
    "\n",
    "# for indes in range(mapss[0].shape[0]):\n",
    "#     # Plot the Poincaré map\n",
    "#     plt.figure(figsize=(8, 6))\n",
    "#     for map in mapss:\n",
    "#         plt.scatter(map[indes,0], map[indes,1], s=5)\n",
    "\n",
    "#     plt.xlabel(\"Displacement (x)\")\n",
    "#     plt.ylabel(\"Velocity (v)\")\n",
    "#     plt.title(\"Poincaré Map of the Duffing Oscillator\")\n",
    "#     plt.grid(True)\n",
    "#     plt.savefig(f'f{indes}.png')\n",
    "#     plt.show()\n",
    "#     # break\n"
   ]
  }
 ],
 "metadata": {
  "kernelspec": {
   "display_name": "torch3.9",
   "language": "python",
   "name": "python3"
  },
  "language_info": {
   "codemirror_mode": {
    "name": "ipython",
    "version": 3
   },
   "file_extension": ".py",
   "mimetype": "text/x-python",
   "name": "python",
   "nbconvert_exporter": "python",
   "pygments_lexer": "ipython3",
   "version": "3.9.16"
  },
  "orig_nbformat": 4
 },
 "nbformat": 4,
 "nbformat_minor": 2
}
